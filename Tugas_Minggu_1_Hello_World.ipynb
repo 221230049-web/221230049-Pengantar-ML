{
  "nbformat": 4,
  "nbformat_minor": 0,
  "metadata": {
    "colab": {
      "provenance": [],
      "authorship_tag": "ABX9TyMArZhd25YKVQ9PpBPFqh4J",
      "include_colab_link": true
    },
    "kernelspec": {
      "name": "python3",
      "display_name": "Python 3"
    },
    "language_info": {
      "name": "python"
    }
  },
  "cells": [
    {
      "cell_type": "markdown",
      "metadata": {
        "id": "view-in-github",
        "colab_type": "text"
      },
      "source": [
        "<a href=\"https://colab.research.google.com/github/221230049-web/221230049-Pengantar-ML/blob/main/Tugas_Minggu_1_Hello_World.ipynb\" target=\"_parent\"><img src=\"https://colab.research.google.com/assets/colab-badge.svg\" alt=\"Open In Colab\"/></a>"
      ]
    },
    {
      "cell_type": "code",
      "execution_count": 1,
      "metadata": {
        "colab": {
          "base_uri": "https://localhost:8080/"
        },
        "id": "po5pk5XTWcTe",
        "outputId": "b445b975-f9f0-4444-b78d-e6150022996f"
      },
      "outputs": [
        {
          "output_type": "stream",
          "name": "stdout",
          "text": [
            "Hello, World!\n",
            "Selamat datang di Mata Kuliah Pengantar Machine Learning!\n",
            "Nama: [Rani]\n",
            "NIM: [221230049]\n"
          ]
        }
      ],
      "source": [
        "print(\"Hello, World!\")\n",
        "print(\"Selamat datang di Mata Kuliah Pengantar Machine Learning!\")\n",
        "print(\"Nama: [Rani]\")\n",
        "print(\"NIM: [221230049]\")"
      ]
    }
  ]
}