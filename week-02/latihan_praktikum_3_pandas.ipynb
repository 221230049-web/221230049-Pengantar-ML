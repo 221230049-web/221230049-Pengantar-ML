{
  "nbformat": 4,
  "nbformat_minor": 0,
  "metadata": {
    "colab": {
      "provenance": [],
      "authorship_tag": "ABX9TyN9C+zujgrPp0KE1ZfvYxfl",
      "include_colab_link": true
    },
    "kernelspec": {
      "name": "python3",
      "display_name": "Python 3"
    },
    "language_info": {
      "name": "python"
    }
  },
  "cells": [
    {
      "cell_type": "markdown",
      "metadata": {
        "id": "view-in-github",
        "colab_type": "text"
      },
      "source": [
        "<a href=\"https://colab.research.google.com/github/221230049-web/221230049-Pengantar-ML/blob/main/week-02/latihan_praktikum_3_pandas.ipynb\" target=\"_parent\"><img src=\"https://colab.research.google.com/assets/colab-badge.svg\" alt=\"Open In Colab\"/></a>"
      ]
    },
    {
      "cell_type": "markdown",
      "source": [
        "3. PANDAS\n",
        "\n"
      ],
      "metadata": {
        "id": "ms4fyIq3Z9Rh"
      }
    },
    {
      "cell_type": "code",
      "source": [
        "import pandas as pd\n",
        "import numpy as np\n",
        "\n",
        "# ANALISIS DATA RETAIl\n",
        "\n",
        "# Buat dataset acak\n",
        "rng = np.random.default_rng(42)\n",
        "tanggal = pd.date_range(start='2023-01-01', end='2023-03-31', freq='D')\n",
        "\n",
        "data_retail = pd.DataFrame({\n",
        "    'tgl_transaksi': rng.choice(tanggal, size=1000),\n",
        "    'id_produk': rng.integers(low=1, high=11, size=1000),\n",
        "    'jumlah': rng.integers(low=1, high=10, size=1000),\n",
        "    'harga': rng.uniform(low=10.0, high=100.0, size=1000),\n",
        "    'id_pelanggan': rng.integers(low=1, high=101, size=1000)\n",
        "})\n",
        "\n",
        "# kolom pendapatan\n",
        "data_retail['pendapatan'] = data_retail['jumlah'] * data_retail['harga']\n",
        "\n",
        "# 1. Total pendapatan per produk\n",
        "pendapatan_produk = (\n",
        "    data_retail\n",
        "    .groupby('id_produk')['pendapatan']\n",
        "    .sum()\n",
        "    .sort_values(ascending=False)\n",
        ")\n",
        "\n",
        "# 2. 5 pelanggan dengan spending terbesar\n",
        "pelanggan_top5 = (\n",
        "    data_retail\n",
        "    .groupby('id_pelanggan')['pendapatan']\n",
        "    .sum()\n",
        "    .nlargest(5)\n",
        ")\n",
        "\n",
        "# 3. Revenue harian\n",
        "pendapatan_harian = (\n",
        "    data_retail\n",
        "    .groupby('tgl_transaksi')['pendapatan']\n",
        "    .sum()\n",
        ")\n",
        "\n",
        "# 4. Fungsi deteksi anomali jumlah\n",
        "def cek_anomali_jumlah(df, batas=2.0):\n",
        "    rata2 = df['jumlah'].mean()\n",
        "    stddev = df['jumlah'].std()\n",
        "    skor = (df['jumlah'] - rata2) / stddev\n",
        "    df = df.copy()\n",
        "    df['z_jumlah'] = skor\n",
        "    return df[np.abs(skor) > batas]\n",
        "\n",
        "anomali = cek_anomali_jumlah(data_retail)\n",
        "\n",
        "print(\"=== ANALISIS DATA RETAIL ===\\n\")\n",
        "print(\"1. Pendapatan per Produk:\")\n",
        "print(pendapatan_produk)\n",
        "\n",
        "print(\"\\n2. Top 5 Pelanggan:\")\n",
        "print(pelanggan_top5)\n",
        "\n",
        "print(\"\\n3. Pendapatan Harian (10 teratas):\")\n",
        "print(pendapatan_harian.head(10))\n",
        "\n",
        "print(f\"\\n4. Jumlah anomali terdeteksi: {len(anomali)}\")\n",
        "print(\"Contoh data anomali:\")\n",
        "print(anomali[['tgl_transaksi', 'id_produk', 'jumlah', 'z_jumlah']].head())\n",
        "\n",
        "# BONUS: tren bulanan\n",
        "data_retail['bulan'] = data_retail['tgl_transaksi'].dt.month\n",
        "pendapatan_bulanan = data_retail.groupby('bulan')['pendapatan'].sum()\n",
        "print(\"\\n=== BONUS ===\")\n",
        "print(\"Pendapatan Bulanan:\")\n",
        "print(pendapatan_bulanan)\n"
      ],
      "metadata": {
        "colab": {
          "base_uri": "https://localhost:8080/"
        },
        "id": "ZaCShVYAZQ5k",
        "outputId": "f4bcd238-0a02-4e06-d0d0-4a64b4ea0042"
      },
      "execution_count": null,
      "outputs": [
        {
          "output_type": "stream",
          "name": "stdout",
          "text": [
            "=== ANALISIS DATA RETAIL ===\n",
            "\n",
            "1. Pendapatan per Produk:\n",
            "id_produk\n",
            "9     32291.089134\n",
            "4     29238.074459\n",
            "1     28797.303326\n",
            "10    28582.900472\n",
            "3     28422.121411\n",
            "2     26919.385381\n",
            "8     26527.116103\n",
            "6     25596.419205\n",
            "7     25307.624342\n",
            "5     23850.015506\n",
            "Name: pendapatan, dtype: float64\n",
            "\n",
            "2. Top 5 Pelanggan:\n",
            "id_pelanggan\n",
            "25    5586.683852\n",
            "53    5453.190749\n",
            "92    4718.510616\n",
            "26    4650.925000\n",
            "55    4525.282227\n",
            "Name: pendapatan, dtype: float64\n",
            "\n",
            "3. Pendapatan Harian (10 teratas):\n",
            "tgl_transaksi\n",
            "2023-01-01    2561.232596\n",
            "2023-01-02    3504.388925\n",
            "2023-01-03    2217.126506\n",
            "2023-01-04    2879.696562\n",
            "2023-01-05    4010.232610\n",
            "2023-01-06    1872.300564\n",
            "2023-01-07    1008.276507\n",
            "2023-01-08    3428.786914\n",
            "2023-01-09    7166.167796\n",
            "2023-01-10    2412.544279\n",
            "Name: pendapatan, dtype: float64\n",
            "\n",
            "4. Jumlah anomali terdeteksi: 0\n",
            "Contoh data anomali:\n",
            "Empty DataFrame\n",
            "Columns: [tgl_transaksi, id_produk, jumlah, z_jumlah]\n",
            "Index: []\n",
            "\n",
            "=== BONUS ===\n",
            "Pendapatan Bulanan:\n",
            "bulan\n",
            "1    93394.126349\n",
            "2    89288.482801\n",
            "3    92849.440189\n",
            "Name: pendapatan, dtype: float64\n"
          ]
        }
      ]
    }
  ]
}